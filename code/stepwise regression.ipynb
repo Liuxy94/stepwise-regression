{
 "cells": [
  {
   "cell_type": "code",
   "execution_count": 1,
   "id": "ad09c665",
   "metadata": {},
   "outputs": [],
   "source": [
    "import pandas as pd\n",
    "import statsmodels.api as sm\n",
    "\n",
    "\n",
    "def forward_regression(X, y,\n",
    "                       threshold_in,\n",
    "                       verbose=False):\n",
    "    initial_list = []\n",
    "    included = list(initial_list)\n",
    "    while True:\n",
    "        changed=False\n",
    "        excluded = list(set(X.columns)-set(included))\n",
    "        new_pval = pd.Series(index=excluded)\n",
    "        for new_column in excluded:\n",
    "            model = sm.OLS(y, sm.add_constant(pd.DataFrame(X[included+[new_column]]))).fit()\n",
    "            new_pval[new_column] = model.pvalues[new_column]\n",
    "        best_pval = new_pval.min()\n",
    "        if best_pval < threshold_in:\n",
    "            best_feature = new_pval.idxmin()\n",
    "            included.append(best_feature)\n",
    "            changed=True\n",
    "            if verbose:\n",
    "                print('Add  {:30} with p-value {:.6}'.format(best_feature, best_pval))\n",
    "\n",
    "        if not changed:\n",
    "            break\n",
    "\n",
    "    return included\n",
    "\n",
    "def backward_regression(X, y,\n",
    "                           threshold_out,\n",
    "                           verbose=False):\n",
    "    included=list(X.columns)\n",
    "    while True:\n",
    "        changed=False\n",
    "        model = sm.OLS(y, sm.add_constant(pd.DataFrame(X[included]))).fit()\n",
    "        # use all coefs except intercept\n",
    "        pvalues = model.pvalues.iloc[1:]\n",
    "        worst_pval = pvalues.max() # null if pvalues is empty\n",
    "        if worst_pval > threshold_out:\n",
    "            changed=True\n",
    "            worst_feature = pvalues.idxmax()\n",
    "            included.remove(worst_feature)\n",
    "            if verbose:\n",
    "                print('Drop {:30} with p-value {:.6}'.format(worst_feature, worst_pval))\n",
    "        if not changed:\n",
    "            break\n",
    "    return included"
   ]
  },
  {
   "cell_type": "code",
   "execution_count": 23,
   "id": "e39a237b",
   "metadata": {},
   "outputs": [],
   "source": [
    "import warnings\n",
    "warnings.filterwarnings(\"ignore\")"
   ]
  },
  {
   "cell_type": "code",
   "execution_count": 24,
   "id": "052fe326",
   "metadata": {},
   "outputs": [],
   "source": [
    "df = pd.read_csv('./data/TP_eng.csv')"
   ]
  },
  {
   "cell_type": "code",
   "execution_count": 30,
   "id": "6e710002",
   "metadata": {},
   "outputs": [],
   "source": [
    "X = df.drop(columns=['point','date','dx','dy'])\n",
    "delta_x = df['dx']\n",
    "delta_y = df['dy']"
   ]
  },
  {
   "cell_type": "code",
   "execution_count": 31,
   "id": "6ff427c5",
   "metadata": {},
   "outputs": [
    {
     "name": "stdout",
     "output_type": "stream",
     "text": [
      "Drop h2                             with p-value 0.93163\n",
      "Drop h3                             with p-value 0.895027\n",
      "Drop h4                             with p-value 0.360635\n",
      "Drop T5                             with p-value 0.0909548\n",
      "['h', 'T', 'T20', 'T15', 'T10', 'day', 'day1', 'day2']\n"
     ]
    }
   ],
   "source": [
    "threshold_in = 0.05\n",
    "included = backward_regression(X, delta_x,\n",
    "                       threshold_in,\n",
    "                       verbose=True)\n",
    "print(included)"
   ]
  },
  {
   "cell_type": "code",
   "execution_count": 32,
   "id": "3b4a80b5",
   "metadata": {},
   "outputs": [],
   "source": [
    "X_update = X[included]"
   ]
  },
  {
   "cell_type": "code",
   "execution_count": 37,
   "id": "b27f0b05",
   "metadata": {},
   "outputs": [
    {
     "name": "stdout",
     "output_type": "stream",
     "text": [
      "Add  T                              with p-value 0.0\n",
      "Add  day                            with p-value 0.0\n",
      "Add  h                              with p-value 8.53398e-204\n",
      "Add  day1                           with p-value 6.32567e-42\n",
      "Add  day2                           with p-value 2.97007e-06\n",
      "Add  T10                            with p-value 0.0270008\n",
      "Add  T15                            with p-value 0.0055513\n",
      "Add  T20                            with p-value 0.00916981\n",
      "['T', 'day', 'h', 'day1', 'day2', 'T10', 'T15', 'T20']\n"
     ]
    }
   ],
   "source": [
    "included2 = forward_regression(X_update, delta_x,\n",
    "                       threshold_in,\n",
    "                       verbose=True)\n",
    "print(included2)"
   ]
  },
  {
   "cell_type": "code",
   "execution_count": 40,
   "id": "edce4b03",
   "metadata": {},
   "outputs": [
    {
     "name": "stdout",
     "output_type": "stream",
     "text": [
      "algoithm ended with following selected features:\n",
      " ['T', 'T10', 'T15', 'T20', 'day', 'day1', 'day2', 'h']\n"
     ]
    }
   ],
   "source": [
    "if included.sort() == included2.sort():\n",
    "    print('algoithm ended with following selected features:\\n',included)"
   ]
  },
  {
   "cell_type": "code",
   "execution_count": 36,
   "id": "034ebd31",
   "metadata": {},
   "outputs": [
    {
     "data": {
      "text/plain": [
       "['T', 'day', 'h', 'day1', 'day2', 'T10', 'T15', 'T20']"
      ]
     },
     "execution_count": 36,
     "metadata": {},
     "output_type": "execute_result"
    }
   ],
   "source": [
    "included"
   ]
  }
 ],
 "metadata": {
  "kernelspec": {
   "display_name": "Python 3",
   "language": "python",
   "name": "python3"
  },
  "language_info": {
   "codemirror_mode": {
    "name": "ipython",
    "version": 3
   },
   "file_extension": ".py",
   "mimetype": "text/x-python",
   "name": "python",
   "nbconvert_exporter": "python",
   "pygments_lexer": "ipython3",
   "version": "3.9.6"
  }
 },
 "nbformat": 4,
 "nbformat_minor": 5
}
